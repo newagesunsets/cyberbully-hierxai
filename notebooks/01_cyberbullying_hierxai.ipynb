{
 "cells": [
  {
   "cell_type": "markdown",
   "id": "912ae75a-4a55-4d43-b81c-6c869367dead",
   "metadata": {},
   "source": [
    "# Hierarchical, Explainable Cyberbullying Classifier\n",
    "\n",
    "**Dataset:** Cyberbullying texts (tweets/comments).  \n",
    "**Goal:** Two-stage prediction—(1) Bullying vs Not; (2) If bullying, the **type**: `age`, `ethnicity`, `gender`, `religion`, `other`.  \n",
    "**Benefits:** Mirrors real moderation pipelines; often improves precision on “not_cyberbullying”.\n",
    "\n",
    "**Notebook outline**\n",
    "1. Brief dataset overview\n",
    "2. Data audit & preprocessing (de-dup, URL/@ normalization, emoji handling, hashtag splitting, text fixes)\n",
    "3. Train a shared-encoder model with two heads (binary + 5-way), mask the 5-way loss when “not”\n",
    "4. Evaluate: Binary F1, Macro-F1 over 6 classes, confusion matrix, per-class F1, PR curves\n",
    "5. Save model + tokenizer + config + label map to `artifacts/`\n",
    "\n",
    "*Hardware:* RTX 4070 Laptop GPU. PyTorch with CUDA 12.8 wheels.\n"
   ]
  },
  {
   "cell_type": "code",
   "execution_count": 1,
   "id": "4925701c-28a1-4027-8dc0-d2647dc606cc",
   "metadata": {},
   "outputs": [],
   "source": [
    "import os, json, re, math, random, gc, warnings\n",
    "from collections import Counter, defaultdict\n",
    "warnings.filterwarnings(\"ignore\")\n",
    "\n",
    "import numpy as np\n",
    "import pandas as pd\n",
    "import matplotlib.pyplot as plt\n",
    "import seaborn as sns\n",
    "\n",
    "import torch\n",
    "import torch.nn as nn\n",
    "from torch.utils.data import Dataset, DataLoader, WeightedRandomSampler\n",
    "\n",
    "from sklearn.model_selection import train_test_split\n",
    "from sklearn.metrics import (classification_report, confusion_matrix,\n",
    "                             f1_score, precision_recall_fscore_support,\n",
    "                             roc_auc_score, average_precision_score)\n",
    "from sklearn.preprocessing import LabelEncoder\n",
    "\n",
    "from transformers import (AutoTokenizer, AutoModel, get_linear_schedule_with_warmup)\n",
    "from tqdm.auto import tqdm\n",
    "import ftfy, emoji, regex as re2\n",
    "from wordsegment import load as ws_load, segment as ws_segment"
   ]
  },
  {
   "cell_type": "code",
   "execution_count": 2,
   "id": "0d1a04c0-8910-4a74-ae95-de0834cc8582",
   "metadata": {},
   "outputs": [],
   "source": [
    "# Repro\n",
    "SEED = 42\n",
    "random.seed(SEED); np.random.seed(SEED); torch.manual_seed(SEED); torch.cuda.manual_seed_all(SEED)"
   ]
  },
  {
   "cell_type": "code",
   "execution_count": 3,
   "id": "65cb774e-ebca-4faf-9f82-cdf90c10ecea",
   "metadata": {},
   "outputs": [],
   "source": [
    "# Paths\n",
    "DATA_RAW = \"../data/raw/cyberbullying_raw.csv\"\n",
    "DATA_CLEAN = \"../data/interim/cleaned.csv\"\n",
    "ARTIFACTS_DIR = \"../artifacts\"\n",
    "os.makedirs(os.path.dirname(DATA_CLEAN), exist_ok=True)\n",
    "os.makedirs(ARTIFACTS_DIR, exist_ok=True)"
   ]
  },
  {
   "cell_type": "code",
   "execution_count": 4,
   "id": "bdaabe57-6c8e-4463-bc8c-a678278a53c7",
   "metadata": {},
   "outputs": [],
   "source": [
    "# Model/config\n",
    "ENCODER = \"roberta-base\"      # switch later to \"vinai/bertweet-base\" if you like\n",
    "MAX_LEN = 96\n",
    "BATCH_SIZE = 16               # fits 8GB VRAM with fp16\n",
    "EPOCHS = 4\n",
    "LR_ENC = 2e-5\n",
    "LR_HEAD = 1e-4\n",
    "WARMUP_RATIO = 0.1\n",
    "LAMBDA = 0.5                  # loss mix: lambda*binary + (1-lambda)*5-way\n",
    "BIN_THRESHOLD = 0.5"
   ]
  },
  {
   "cell_type": "code",
   "execution_count": 5,
   "id": "5e60754e-67b1-4fc2-b878-522eb2d1d300",
   "metadata": {},
   "outputs": [
    {
     "name": "stdout",
     "output_type": "stream",
     "text": [
      "Device: cuda\n",
      "GPU: NVIDIA GeForce RTX 4070 Laptop GPU\n"
     ]
    }
   ],
   "source": [
    "# GPU\n",
    "device = torch.device(\"cuda\" if torch.cuda.is_available() else \"cpu\")\n",
    "print(\"Device:\", device)\n",
    "if device.type == \"cuda\":\n",
    "    print(\"GPU:\", torch.cuda.get_device_name(0))"
   ]
  },
  {
   "cell_type": "code",
   "execution_count": 6,
   "id": "d7aa0532-b59c-49be-b886-d825a00d0bb1",
   "metadata": {},
   "outputs": [],
   "source": [
    "# Tokenizers parallelism warning off\n",
    "os.environ[\"TOKENIZERS_PARALLELISM\"] = \"false\""
   ]
  },
  {
   "cell_type": "code",
   "execution_count": 7,
   "id": "9421f536-474d-48a6-8ee3-a845bbfb4782",
   "metadata": {},
   "outputs": [],
   "source": [
    "# wordsegment init\n",
    "ws_load()"
   ]
  },
  {
   "cell_type": "code",
   "execution_count": 8,
   "id": "6b48e754-76b3-4482-9dbd-ded7b0b600d4",
   "metadata": {},
   "outputs": [
    {
     "name": "stdout",
     "output_type": "stream",
     "text": [
      "Raw shape: (47692, 2)\n"
     ]
    },
    {
     "data": {
      "text/html": [
       "<div>\n",
       "<style scoped>\n",
       "    .dataframe tbody tr th:only-of-type {\n",
       "        vertical-align: middle;\n",
       "    }\n",
       "\n",
       "    .dataframe tbody tr th {\n",
       "        vertical-align: top;\n",
       "    }\n",
       "\n",
       "    .dataframe thead th {\n",
       "        text-align: right;\n",
       "    }\n",
       "</style>\n",
       "<table border=\"1\" class=\"dataframe\">\n",
       "  <thead>\n",
       "    <tr style=\"text-align: right;\">\n",
       "      <th></th>\n",
       "      <th>tweet_text</th>\n",
       "      <th>cyberbullying_type</th>\n",
       "    </tr>\n",
       "  </thead>\n",
       "  <tbody>\n",
       "    <tr>\n",
       "      <th>0</th>\n",
       "      <td>In other words #katandandre, your food was cra...</td>\n",
       "      <td>not_cyberbullying</td>\n",
       "    </tr>\n",
       "    <tr>\n",
       "      <th>1</th>\n",
       "      <td>Why is #aussietv so white? #MKR #theblock #ImA...</td>\n",
       "      <td>not_cyberbullying</td>\n",
       "    </tr>\n",
       "  </tbody>\n",
       "</table>\n",
       "</div>"
      ],
      "text/plain": [
       "                                          tweet_text cyberbullying_type\n",
       "0  In other words #katandandre, your food was cra...  not_cyberbullying\n",
       "1  Why is #aussietv so white? #MKR #theblock #ImA...  not_cyberbullying"
      ]
     },
     "execution_count": 8,
     "metadata": {},
     "output_type": "execute_result"
    }
   ],
   "source": [
    "# %% [code]\n",
    "def try_read_csv(path):\n",
    "    try:\n",
    "        return pd.read_csv(path)\n",
    "    except UnicodeDecodeError:\n",
    "        return pd.read_csv(path, encoding=\"latin-1\")\n",
    "\n",
    "df_raw = try_read_csv(DATA_RAW)\n",
    "print(\"Raw shape:\", df_raw.shape)\n",
    "df_raw.head(2)"
   ]
  },
  {
   "cell_type": "code",
   "execution_count": 9,
   "id": "7dfc4569-27e5-4a5b-801a-29ede7bbb707",
   "metadata": {},
   "outputs": [
    {
     "data": {
      "text/plain": [
       "('tweet_text', 'cyberbullying_type')"
      ]
     },
     "execution_count": 9,
     "metadata": {},
     "output_type": "execute_result"
    }
   ],
   "source": [
    "# %% [code]\n",
    "def guess_columns(df):\n",
    "    # candidate text columns: object dtype with median length > ~8\n",
    "    text_cands = []\n",
    "    for c in df.columns:\n",
    "        if df[c].dtype == object:\n",
    "            sample = df[c].dropna().astype(str).head(500).tolist()\n",
    "            if not sample: \n",
    "                continue\n",
    "            med_len = np.median([len(s) for s in sample])\n",
    "            if med_len >= 8:\n",
    "                text_cands.append(c)\n",
    "    # candidate label columns: low unique cardinality and not free text\n",
    "    label_cands = [c for c in df.columns if df[c].nunique()<=20 and df[c].dtype!=float]\n",
    "\n",
    "    text_col = text_cands[0] if text_cands else df.columns[0]\n",
    "    # prefer a label column that looks like class names\n",
    "    pref = [\"label\",\"labels\",\"class\",\"cyberbullying_type\",\"category\",\"target\"]\n",
    "    label_col = None\n",
    "    for p in pref:\n",
    "        if p in df.columns:\n",
    "            label_col = p; break\n",
    "    if label_col is None:\n",
    "        # fallback to smallest unique\n",
    "        label_col = min(label_cands, key=lambda c: df[c].nunique()) if label_cands else df.columns[-1]\n",
    "    return text_col, label_col\n",
    "\n",
    "TEXT_COL, LABEL_COL = guess_columns(df_raw)\n",
    "TEXT_COL, LABEL_COL"
   ]
  },
  {
   "cell_type": "markdown",
   "id": "225333ce-5df7-432e-a413-b22b8318373d",
   "metadata": {},
   "source": [
    "## Data audit (duplicates, nulls, lengths, class balance)"
   ]
  },
  {
   "cell_type": "code",
   "execution_count": 10,
   "id": "d1206569-1c0a-4c50-8f24-96ae1e4cf527",
   "metadata": {},
   "outputs": [
    {
     "name": "stdout",
     "output_type": "stream",
     "text": [
      "text     0\n",
      "label    0\n",
      "dtype: int64\n",
      "\n",
      "Class distribution:\n",
      " label\n",
      "religion               7998\n",
      "age                    7992\n",
      "gender                 7973\n",
      "ethnicity              7961\n",
      "not_cyberbullying      7945\n",
      "other_cyberbullying    7823\n",
      "Name: count, dtype: int64\n"
     ]
    },
    {
     "data": {
      "image/png": "[encoded data removed]",
      "text/plain": [
       "<Figure size 700x400 with 1 Axes>"
      ]
     },
     "metadata": {},
     "output_type": "display_data"
    },
    {
     "name": "stdout",
     "output_type": "stream",
     "text": [
      "Exact duplicate rate: 3.512%\n"
     ]
    },
    {
     "data": {
      "text/html": [
       "<div>\n",
       "<style scoped>\n",
       "    .dataframe tbody tr th:only-of-type {\n",
       "        vertical-align: middle;\n",
       "    }\n",
       "\n",
       "    .dataframe tbody tr th {\n",
       "        vertical-align: top;\n",
       "    }\n",
       "\n",
       "    .dataframe thead th {\n",
       "        text-align: right;\n",
       "    }\n",
       "</style>\n",
       "<table border=\"1\" class=\"dataframe\">\n",
       "  <thead>\n",
       "    <tr style=\"text-align: right;\">\n",
       "      <th></th>\n",
       "      <th>text</th>\n",
       "      <th>label</th>\n",
       "    </tr>\n",
       "  </thead>\n",
       "  <tbody>\n",
       "    <tr>\n",
       "      <th>40362</th>\n",
       "      <td>@Goree_JuhssGuns hahaha he ain't even worth my...</td>\n",
       "      <td>ethnicity</td>\n",
       "    </tr>\n",
       "    <tr>\n",
       "      <th>15019</th>\n",
       "      <td>RT @hsaymssik: Sucks to have the smile wiped o...</td>\n",
       "      <td>gender</td>\n",
       "    </tr>\n",
       "    <tr>\n",
       "      <th>46321</th>\n",
       "      <td>Just a reminder, it's absolutely disgusting to...</td>\n",
       "      <td>ethnicity</td>\n",
       "    </tr>\n",
       "    <tr>\n",
       "      <th>23927</th>\n",
       "      <td>RT @BuzzFeedUK: When you accidentally open you...</td>\n",
       "      <td>other_cyberbullying</td>\n",
       "    </tr>\n",
       "    <tr>\n",
       "      <th>1640</th>\n",
       "      <td>Loving the look of the fritters! #mkr</td>\n",
       "      <td>not_cyberbullying</td>\n",
       "    </tr>\n",
       "  </tbody>\n",
       "</table>\n",
       "</div>"
      ],
      "text/plain": [
       "                                                    text                label\n",
       "40362  @Goree_JuhssGuns hahaha he ain't even worth my...            ethnicity\n",
       "15019  RT @hsaymssik: Sucks to have the smile wiped o...               gender\n",
       "46321  Just a reminder, it's absolutely disgusting to...            ethnicity\n",
       "23927  RT @BuzzFeedUK: When you accidentally open you...  other_cyberbullying\n",
       "1640               Loving the look of the fritters! #mkr    not_cyberbullying"
      ]
     },
     "execution_count": 10,
     "metadata": {},
     "output_type": "execute_result"
    }
   ],
   "source": [
    "# %% [code]\n",
    "df = df_raw[[TEXT_COL, LABEL_COL]].rename(columns={TEXT_COL:\"text\", LABEL_COL:\"label\"})\n",
    "df[\"text\"] = df[\"text\"].astype(str)\n",
    "\n",
    "# Basic stats\n",
    "print(df.isna().sum())\n",
    "print(\"\\nClass distribution:\\n\", df[\"label\"].value_counts(dropna=False))\n",
    "\n",
    "# Text length\n",
    "df[\"len\"] = df[\"text\"].str.len()\n",
    "fig, ax = plt.subplots(figsize=(7,4))\n",
    "sns.histplot(df[\"len\"], bins=50, ax=ax)\n",
    "ax.set_title(\"Text length distribution\")\n",
    "plt.show()\n",
    "\n",
    "# Duplicates\n",
    "dup_rate = df.duplicated(subset=[\"text\"]).mean()\n",
    "print(f\"Exact duplicate rate: {dup_rate:.3%}\")\n",
    "\n",
    "# Quick samples\n",
    "df.sample(5, random_state=SEED)[[\"text\",\"label\"]]\n"
   ]
  },
  {
   "cell_type": "markdown",
   "id": "67f54f5d-2c1a-41af-aae6-cc32d7fbabfa",
   "metadata": {},
   "source": [
    "## Normalization & cleaning helpers"
   ]
  },
  {
   "cell_type": "code",
   "execution_count": 11,
   "id": "cccb0d21-9b83-4d40-9c29-5fc37c2817ac",
   "metadata": {},
   "outputs": [
    {
     "name": "stdout",
     "output_type": "stream",
     "text": [
      "Before de-dup: (47692, 4)\n",
      "After de-dup: (45439, 4)\n"
     ]
    },
    {
     "data": {
      "text/html": [
       "<div>\n",
       "<style scoped>\n",
       "    .dataframe tbody tr th:only-of-type {\n",
       "        vertical-align: middle;\n",
       "    }\n",
       "\n",
       "    .dataframe tbody tr th {\n",
       "        vertical-align: top;\n",
       "    }\n",
       "\n",
       "    .dataframe thead th {\n",
       "        text-align: right;\n",
       "    }\n",
       "</style>\n",
       "<table border=\"1\" class=\"dataframe\">\n",
       "  <thead>\n",
       "    <tr style=\"text-align: right;\">\n",
       "      <th></th>\n",
       "      <th>text</th>\n",
       "      <th>text_norm</th>\n",
       "      <th>label</th>\n",
       "    </tr>\n",
       "  </thead>\n",
       "  <tbody>\n",
       "    <tr>\n",
       "      <th>0</th>\n",
       "      <td>In other words #katandandre, your food was cra...</td>\n",
       "      <td>in other words kat and andre , your food was c...</td>\n",
       "      <td>not_cyberbullying</td>\n",
       "    </tr>\n",
       "    <tr>\n",
       "      <th>1</th>\n",
       "      <td>Why is #aussietv so white? #MKR #theblock #ImA...</td>\n",
       "      <td>why is aussie tv so white? mkr the block ima c...</td>\n",
       "      <td>not_cyberbullying</td>\n",
       "    </tr>\n",
       "    <tr>\n",
       "      <th>2</th>\n",
       "      <td>@XochitlSuckkks a classy whore? Or more red ve...</td>\n",
       "      <td>&lt;user&gt; a classy whore? or more red velvet cupc...</td>\n",
       "      <td>not_cyberbullying</td>\n",
       "    </tr>\n",
       "    <tr>\n",
       "      <th>3</th>\n",
       "      <td>@Jason_Gio meh. :P  thanks for the heads up, b...</td>\n",
       "      <td>&lt;user&gt; meh. :p thanks for the heads up, but no...</td>\n",
       "      <td>not_cyberbullying</td>\n",
       "    </tr>\n",
       "    <tr>\n",
       "      <th>4</th>\n",
       "      <td>@RudhoeEnglish This is an ISIS account pretend...</td>\n",
       "      <td>&lt;user&gt; this is an isis account pretending to b...</td>\n",
       "      <td>not_cyberbullying</td>\n",
       "    </tr>\n",
       "  </tbody>\n",
       "</table>\n",
       "</div>"
      ],
      "text/plain": [
       "                                                text  \\\n",
       "0  In other words #katandandre, your food was cra...   \n",
       "1  Why is #aussietv so white? #MKR #theblock #ImA...   \n",
       "2  @XochitlSuckkks a classy whore? Or more red ve...   \n",
       "3  @Jason_Gio meh. :P  thanks for the heads up, b...   \n",
       "4  @RudhoeEnglish This is an ISIS account pretend...   \n",
       "\n",
       "                                           text_norm              label  \n",
       "0  in other words kat and andre , your food was c...  not_cyberbullying  \n",
       "1  why is aussie tv so white? mkr the block ima c...  not_cyberbullying  \n",
       "2  <user> a classy whore? or more red velvet cupc...  not_cyberbullying  \n",
       "3  <user> meh. :p thanks for the heads up, but no...  not_cyberbullying  \n",
       "4  <user> this is an isis account pretending to b...  not_cyberbullying  "
      ]
     },
     "execution_count": 11,
     "metadata": {},
     "output_type": "execute_result"
    }
   ],
   "source": [
    "# %% [code]\n",
    "URL_RE   = re.compile(r\"(https?://\\S+|www\\.\\S+)\")\n",
    "USER_RE  = re.compile(r\"@\\w+\")\n",
    "HASH_RE  = re.compile(r\"#(\\w+)\")\n",
    "SPACE_RE = re.compile(r\"\\s+\")\n",
    "\n",
    "def split_hashtag(tag):\n",
    "    # tag without '#', lowercased, segmented by wordsegment\n",
    "    if not tag: return \"\"\n",
    "    words = ws_segment(tag)\n",
    "    return \" \".join(words)\n",
    "\n",
    "def normalize_text(s: str) -> str:\n",
    "    s = ftfy.fix_text(str(s))\n",
    "    s = URL_RE.sub(\"<url>\", s)\n",
    "    s = USER_RE.sub(\"<user>\", s)\n",
    "    # split hashtags into tokens\n",
    "    def _sub(m):\n",
    "        return \" \" + split_hashtag(m.group(1)) + \" \"\n",
    "    s = HASH_RE.sub(_sub, s)\n",
    "    # demojize or keep emojis (BERTweet likes emojis, RoBERTa is ok either way)\n",
    "    # Here we map emojis to text names for interpretability:\n",
    "    s = emoji.demojize(s, delimiters=(\" \", \" \"))\n",
    "    s = s.lower().strip()\n",
    "    s = SPACE_RE.sub(\" \", s)\n",
    "    return s\n",
    "\n",
    "# De-duplication in two phases: exact and near (after rough normalization)\n",
    "df[\"text_norm\"] = df[\"text\"].apply(lambda x: normalize_text(x))\n",
    "print(\"Before de-dup:\", df.shape)\n",
    "df = df.drop_duplicates(subset=[\"text_norm\"]).reset_index(drop=True)\n",
    "print(\"After de-dup:\", df.shape)\n",
    "\n",
    "# Drop very short after normalization (noise)\n",
    "df = df[df[\"text_norm\"].str.len() >= 3].reset_index(drop=True)\n",
    "df[[\"text\",\"text_norm\",\"label\"]].head(5)\n"
   ]
  },
  {
   "cell_type": "markdown",
   "id": "147ee065-e85b-48a6-b638-06bfaa2325fe",
   "metadata": {},
   "source": [
    "## Label mapping and save a cleaned CSV"
   ]
  },
  {
   "cell_type": "code",
   "execution_count": 12,
   "id": "c0997dfc-c7e5-4e38-9ba1-2bf4fc57323e",
   "metadata": {},
   "outputs": [
    {
     "name": "stdout",
     "output_type": "stream",
     "text": [
      "label_str\n",
      "religion             7979\n",
      "age                  7959\n",
      "ethnicity            7921\n",
      "not_cyberbullying    7816\n",
      "gender               7720\n",
      "other                6040\n",
      "Name: count, dtype: int64\n",
      "Saved: ../data/interim/cleaned.csv\n"
     ]
    }
   ],
   "source": [
    "# %% [code]\n",
    "# Standardize labels into: not_cyberbullying, age, ethnicity, gender, religion, other\n",
    "canon_map = {\n",
    "    \"not_cyberbullying\": \"not_cyberbullying\",\n",
    "    \"not\": \"not_cyberbullying\",\n",
    "    \"none\": \"not_cyberbullying\",\n",
    "    \"age\": \"age\",\n",
    "    \"ethnicity\": \"ethnicity\",\n",
    "    \"gender\": \"gender\",\n",
    "    \"religion\": \"religion\",\n",
    "    \"other_cyberbullying\": \"other\",\n",
    "    \"other\": \"other\",\n",
    "}\n",
    "df[\"label_str\"] = df[\"label\"].astype(str).str.strip().str.lower().map(canon_map).fillna(df[\"label\"].astype(str).str.lower())\n",
    "allowed = {\"not_cyberbullying\",\"age\",\"ethnicity\",\"gender\",\"religion\",\"other\"}\n",
    "df = df[df[\"label_str\"].isin(allowed)].reset_index(drop=True)\n",
    "\n",
    "label2id = {lbl:i for i,lbl in enumerate([\"not_cyberbullying\",\"age\",\"ethnicity\",\"gender\",\"religion\",\"other\"])}\n",
    "id2label = {v:k for k,v in label2id.items()}\n",
    "df[\"label_id\"] = df[\"label_str\"].map(label2id)\n",
    "\n",
    "# y_binary: 0 for not, 1 for bullying\n",
    "df[\"y_bin\"] = (df[\"label_str\"] != \"not_cyberbullying\").astype(int)\n",
    "\n",
    "print(df[\"label_str\"].value_counts())\n",
    "df[[\"text_norm\",\"label_str\",\"label_id\",\"y_bin\"]].head()\n",
    "\n",
    "# Save cleaned\n",
    "df_clean = df[[\"text_norm\",\"label_str\",\"label_id\",\"y_bin\"]].rename(columns={\"text_norm\":\"text\"})\n",
    "df_clean.to_csv(DATA_CLEAN, index=False)\n",
    "print(\"Saved:\", DATA_CLEAN)\n"
   ]
  },
  {
   "cell_type": "markdown",
   "id": "b34cc2b1-f5f2-4f09-967d-e9a3d302203e",
   "metadata": {},
   "source": [
    "## Stratified split"
   ]
  },
  {
   "cell_type": "code",
   "execution_count": 13,
   "id": "0343050f-eabc-45b8-a1f1-047c8a9c3471",
   "metadata": {},
   "outputs": [
    {
     "name": "stdout",
     "output_type": "stream",
     "text": [
      "train (36348, 4) class balance: {'religion': 6383, 'other': 4832, 'age': 6367, 'gender': 6176, 'ethnicity': 6337, 'not_cyberbullying': 6253}\n",
      "val (4543, 4) class balance: {'gender': 772, 'not_cyberbullying': 781, 'religion': 798, 'age': 796, 'ethnicity': 792, 'other': 604}\n",
      "test (4544, 4) class balance: {'ethnicity': 792, 'age': 796, 'not_cyberbullying': 782, 'gender': 772, 'other': 604, 'religion': 798}\n"
     ]
    }
   ],
   "source": [
    "# %% [code]\n",
    "train_df, temp_df = train_test_split(df_clean, test_size=0.2, random_state=SEED, stratify=df_clean[\"label_id\"])\n",
    "val_df, test_df   = train_test_split(temp_df, test_size=0.5, random_state=SEED, stratify=temp_df[\"label_id\"])\n",
    "\n",
    "for name, d in [(\"train\",train_df),(\"val\",val_df),(\"test\",test_df)]:\n",
    "    print(name, d.shape, \"class balance:\", dict(Counter(d[\"label_str\"])))\n"
   ]
  },
  {
   "cell_type": "markdown",
   "id": "80d51591-0c58-43f5-9f23-7e6ed6fbe02c",
   "metadata": {},
   "source": [
    "## Tokenizer & Dataset"
   ]
  },
  {
   "cell_type": "code",
   "execution_count": 14,
   "id": "b0a0b674-709c-44ee-b40f-eaf1d23be251",
   "metadata": {},
   "outputs": [],
   "source": [
    "# %% [code]\n",
    "tokenizer = AutoTokenizer.from_pretrained(ENCODER, use_fast=True)\n",
    "\n",
    "class CyberDS(Dataset):\n",
    "    def __init__(self, frame, tokenizer, max_len=96):\n",
    "        self.f = frame.reset_index(drop=True)\n",
    "        self.tok = tokenizer\n",
    "        self.max_len = max_len\n",
    "    def __len__(self):\n",
    "        return len(self.f)\n",
    "    def __getitem__(self, idx):\n",
    "        row = self.f.iloc[idx]\n",
    "        enc = self.tok(row[\"text\"], truncation=True, padding=\"max_length\",\n",
    "                       max_length=self.max_len, return_tensors=\"pt\")\n",
    "        item = {k: v.squeeze(0) for k,v in enc.items()}\n",
    "        item[\"y_bin\"] = torch.tensor(row[\"y_bin\"], dtype=torch.float32)\n",
    "        # map 6-class into [0..5] where 0==not, 1..5 == bullying types\n",
    "        item[\"y_multi\"] = torch.tensor(row[\"label_id\"] - 0, dtype=torch.long)  # already 0..5\n",
    "        return item\n",
    "\n",
    "train_ds = CyberDS(train_df, tokenizer, MAX_LEN)\n",
    "val_ds   = CyberDS(val_df, tokenizer, MAX_LEN)\n",
    "test_ds  = CyberDS(test_df, tokenizer, MAX_LEN)\n",
    "\n",
    "# Weighted sampler to reduce class imbalance effects (on 6-way labels)\n",
    "counts = train_df[\"label_id\"].value_counts().to_dict()\n",
    "weights = train_df[\"label_id\"].map(lambda x: 1.0 / counts[x]).values\n",
    "\n",
    "\n",
    "# --- SAFE DATALOADERS FOR WINDOWS/JUPYTER ---\n",
    "NUM_WORKERS = 0             # <- key fix\n",
    "PERSISTENT = False\n",
    "\n",
    "# Option A (quickest debug): remove sampler; just shuffle\n",
    "train_dl = DataLoader(train_ds, batch_size=BATCH_SIZE, shuffle=True,\n",
    "                      num_workers=NUM_WORKERS, pin_memory=True, persistent_workers=PERSISTENT)\n",
    "\n",
    "# Keep val/test simple\n",
    "val_dl   = DataLoader(val_ds, batch_size=BATCH_SIZE, shuffle=False,\n",
    "                      num_workers=NUM_WORKERS, pin_memory=True, persistent_workers=PERSISTENT)\n",
    "test_dl  = DataLoader(test_ds, batch_size=BATCH_SIZE, shuffle=False,\n",
    "                      num_workers=NUM_WORKERS, pin_memory=True, persistent_workers=PERSISTENT)\n",
    "\n"
   ]
  },
  {
   "cell_type": "markdown",
   "id": "b0e40518-97c5-4f38-b427-77c940504c65",
   "metadata": {},
   "source": [
    "## Model (shared encoder, two heads)"
   ]
  },
  {
   "cell_type": "code",
   "execution_count": 15,
   "id": "380b3019-85ea-46ef-939f-3f1e6ebf7d89",
   "metadata": {},
   "outputs": [
    {
     "name": "stderr",
     "output_type": "stream",
     "text": [
      "Some weights of RobertaModel were not initialized from the model checkpoint at roberta-base and are newly initialized: ['pooler.dense.bias', 'pooler.dense.weight']\n",
      "You should probably TRAIN this model on a down-stream task to be able to use it for predictions and inference.\n"
     ]
    }
   ],
   "source": [
    "# %% [code]\n",
    "class HierXAI(nn.Module):\n",
    "    def __init__(self, encoder_name=\"roberta-base\", hidden_dropout=0.1):\n",
    "        super().__init__()\n",
    "        self.enc = AutoModel.from_pretrained(encoder_name)\n",
    "        h = self.enc.config.hidden_size\n",
    "        self.dropout = nn.Dropout(hidden_dropout)\n",
    "        self.bin_head = nn.Linear(h, 1)      # bully vs not\n",
    "        self.multi_head = nn.Linear(h, 5)    # 5 types: age, ethnicity, gender, religion, other\n",
    "\n",
    "    def forward(self, input_ids, attention_mask):\n",
    "        out = self.enc(input_ids=input_ids, attention_mask=attention_mask)\n",
    "        cls = out.last_hidden_state[:, 0, :]       # CLS / <s>\n",
    "        z = self.dropout(cls)\n",
    "        logit_bin = self.bin_head(z).squeeze(-1)\n",
    "        logits_multi = self.multi_head(z)\n",
    "        return logit_bin, logits_multi\n",
    "\n",
    "model = HierXAI(ENCODER).to(device)\n"
   ]
  },
  {
   "cell_type": "markdown",
   "id": "d7f046c5-6c16-48ff-9ae6-13e482d77a00",
   "metadata": {},
   "source": [
    "## Loss, optimizer, scheduler, mixed precision"
   ]
  },
  {
   "cell_type": "code",
   "execution_count": 16,
   "id": "b1abeeea-93e1-4428-933c-a5ad803b6f77",
   "metadata": {},
   "outputs": [],
   "source": [
    "# %% [code]\n",
    "# Class weights for binary and 5-way\n",
    "pos_weight = torch.tensor([ (train_df[\"y_bin\"]==0).sum() / max(1,(train_df[\"y_bin\"]==1).sum()) ], device=device)\n",
    "bin_crit = nn.BCEWithLogitsLoss(pos_weight=pos_weight)\n",
    "\n",
    "# 5-way weights (for bullying types only: indices 1..5 in global map; shift to 0..4 here)\n",
    "five_counts = train_df[train_df[\"y_bin\"]==1][\"label_id\"].map({1:0,2:1,3:2,4:3,5:4}).value_counts().reindex([0,1,2,3,4]).fillna(1)\n",
    "five_w = torch.tensor([ five_counts.sum()/c for c in five_counts ], dtype=torch.float32, device=device)\n",
    "multi_crit = nn.CrossEntropyLoss(weight=five_w)\n",
    "\n",
    "# Params: lower LR for encoder, higher for heads\n",
    "enc_params = [p for n,p in model.named_parameters() if n.startswith(\"enc.\")]\n",
    "head_params = [p for n,p in model.named_parameters() if n.startswith((\"bin_head\",\"multi_head\",\"dropout\"))]\n",
    "optimizer = torch.optim.AdamW([\n",
    "    {\"params\": enc_params, \"lr\": LR_ENC},\n",
    "    {\"params\": head_params, \"lr\": LR_HEAD},\n",
    "], weight_decay=0.01)\n",
    "\n",
    "num_train_steps = EPOCHS * math.ceil(len(train_dl))\n",
    "num_warm = int(WARMUP_RATIO * num_train_steps)\n",
    "scheduler = get_linear_schedule_with_warmup(optimizer, num_warm, num_train_steps)\n",
    "\n",
    "scaler = torch.cuda.amp.GradScaler(enabled=(device.type==\"cuda\"))\n"
   ]
  },
  {
   "cell_type": "markdown",
   "id": "068bcd8e-8d64-4927-af2a-2e13c500f296",
   "metadata": {},
   "source": [
    "## Training loop"
   ]
  },
  {
   "cell_type": "code",
   "execution_count": 17,
   "id": "7b5e514f-e34f-456a-a55d-cacea3e4c41f",
   "metadata": {},
   "outputs": [
    {
     "name": "stderr",
     "output_type": "stream",
     "text": [
      "                                                                                                                       "
     ]
    },
    {
     "name": "stdout",
     "output_type": "stream",
     "text": [
      "Epoch 1 | train_loss=0.2998 | val_macroF1=0.7413 | val_binF1=0.8804\n",
      "  ↳ Saved new best to artifacts/model_state_dict.pt\n"
     ]
    },
    {
     "name": "stderr",
     "output_type": "stream",
     "text": [
      "                                                                                                                       "
     ]
    },
    {
     "name": "stdout",
     "output_type": "stream",
     "text": [
      "Epoch 2 | train_loss=0.1356 | val_macroF1=0.8013 | val_binF1=0.9026\n",
      "  ↳ Saved new best to artifacts/model_state_dict.pt\n"
     ]
    },
    {
     "name": "stderr",
     "output_type": "stream",
     "text": [
      "                                                                                                                       "
     ]
    },
    {
     "name": "stdout",
     "output_type": "stream",
     "text": [
      "Epoch 3 | train_loss=0.1069 | val_macroF1=0.8221 | val_binF1=0.9135\n",
      "  ↳ Saved new best to artifacts/model_state_dict.pt\n"
     ]
    },
    {
     "name": "stderr",
     "output_type": "stream",
     "text": [
      "                                                                                                                       "
     ]
    },
    {
     "name": "stdout",
     "output_type": "stream",
     "text": [
      "Epoch 4 | train_loss=0.0935 | val_macroF1=0.8326 | val_binF1=0.9183\n",
      "  ↳ Saved new best to artifacts/model_state_dict.pt\n"
     ]
    }
   ],
   "source": [
    "# %% [code]\n",
    "def train_one_epoch(model, loader):\n",
    "    model.train()\n",
    "    total_loss = 0.0\n",
    "    pbar = tqdm(loader, leave=False)\n",
    "    for batch in pbar:\n",
    "        optimizer.zero_grad(set_to_none=True)\n",
    "        input_ids = batch[\"input_ids\"].to(device)\n",
    "        attn = batch[\"attention_mask\"].to(device)\n",
    "        y_bin = batch[\"y_bin\"].to(device)\n",
    "        y_multi = batch[\"y_multi\"].to(device)\n",
    "\n",
    "        with torch.cuda.amp.autocast(enabled=(device.type==\"cuda\")):\n",
    "            logit_bin, logits_multi = model(input_ids=input_ids, attention_mask=attn)\n",
    "            loss_bin = bin_crit(logit_bin, y_bin)\n",
    "            mask = (y_bin == 1)\n",
    "            if mask.any():\n",
    "                # shift multi labels: from global 0..5 -> bullying types indices 0..4 by subtracting 1\n",
    "                loss_multi = multi_crit(logits_multi[mask], (y_multi[mask]-1))\n",
    "            else:\n",
    "                loss_multi = torch.tensor(0.0, device=device)\n",
    "            loss = LAMBDA * loss_bin + (1 - LAMBDA) * loss_multi\n",
    "\n",
    "        scaler.scale(loss).backward()\n",
    "        nn.utils.clip_grad_norm_(model.parameters(), 1.0)\n",
    "        scaler.step(optimizer)\n",
    "        scaler.update()\n",
    "        scheduler.step()\n",
    "\n",
    "        total_loss += loss.item()\n",
    "        pbar.set_description(f\"loss={loss.item():.4f}\")\n",
    "    return total_loss / len(loader)\n",
    "\n",
    "@torch.no_grad()\n",
    "def evaluate(model, loader, threshold=0.5):\n",
    "    model.eval()\n",
    "    ys_bin, ps_bin = [], []\n",
    "    ys_multi, ps_multi = [], []\n",
    "\n",
    "    for batch in loader:\n",
    "        input_ids = batch[\"input_ids\"].to(device)\n",
    "        attn = batch[\"attention_mask\"].to(device)\n",
    "        y_bin = batch[\"y_bin\"].cpu().numpy()\n",
    "        y_multi = batch[\"y_multi\"].cpu().numpy()\n",
    "\n",
    "        logit_bin, logits_multi = model(input_ids=input_ids, attention_mask=attn)\n",
    "        p_b = torch.sigmoid(logit_bin).cpu().numpy()\n",
    "        p_m = torch.softmax(logits_multi, dim=-1).cpu().numpy()\n",
    "\n",
    "        ys_bin.extend(y_bin.tolist()); ps_bin.extend(p_b.tolist())\n",
    "        ys_multi.extend(y_multi.tolist()); ps_multi.extend(p_m.tolist())\n",
    "\n",
    "    # Hierarchical decision\n",
    "    ys6_true = np.array(ys_multi)           # 0..5 (0=not)\n",
    "    p_b = np.array(ps_bin).reshape(-1)\n",
    "    p_m = np.array(ps_multi)                # probs over 5 bullying types\n",
    "    pred6 = np.zeros_like(ys6_true)\n",
    "    bully_idx = (p_b >= threshold)\n",
    "    if bully_idx.any():\n",
    "        # take argmax over 5-way (1..5)\n",
    "        pred6[bully_idx] = 1 + np.argmax(p_m[bully_idx], axis=1)\n",
    "\n",
    "    # Metrics\n",
    "    # Binary\n",
    "    yb_true = (ys6_true != 0).astype(int)\n",
    "    yb_pred = (p_b >= threshold).astype(int)\n",
    "    bin_prec, bin_rec, bin_f1, _ = precision_recall_fscore_support(yb_true, yb_pred, average=\"binary\", zero_division=0)\n",
    "    bin_auc_pr = average_precision_score(yb_true, p_b)\n",
    "    # 6-class\n",
    "    macro_f1 = f1_score(ys6_true, pred6, average=\"macro\")\n",
    "    cm = confusion_matrix(ys6_true, pred6, labels=[0,1,2,3,4,5])\n",
    "\n",
    "    return {\n",
    "        \"bin_precision\": float(bin_prec),\n",
    "        \"bin_recall\": float(bin_rec),\n",
    "        \"bin_f1\": float(bin_f1),\n",
    "        \"bin_ap\": float(bin_auc_pr),\n",
    "        \"macro_f1\": float(macro_f1),\n",
    "        \"confusion_matrix\": cm.tolist(),\n",
    "        \"y_true_6\": ys6_true.tolist(),\n",
    "        \"y_pred_6\": pred6.tolist(),\n",
    "        \"p_binary\": p_b.tolist(),\n",
    "    }\n",
    "\n",
    "best_val = -1.0\n",
    "for epoch in range(1, EPOCHS+1):\n",
    "    tr_loss = train_one_epoch(model, train_dl)\n",
    "    val_metrics = evaluate(model, val_dl, threshold=BIN_THRESHOLD)\n",
    "    print(f\"Epoch {epoch} | train_loss={tr_loss:.4f} | val_macroF1={val_metrics['macro_f1']:.4f} | val_binF1={val_metrics['bin_f1']:.4f}\")\n",
    "\n",
    "    if val_metrics[\"macro_f1\"] > best_val:\n",
    "        best_val = val_metrics[\"macro_f1\"]\n",
    "        torch.save(model.state_dict(), os.path.join(ARTIFACTS_DIR, \"model_state_dict.pt\"))\n",
    "        print(\"  ↳ Saved new best to artifacts/model_state_dict.pt\")\n"
   ]
  },
  {
   "cell_type": "markdown",
   "id": "d9edb416-719e-4928-8b9a-87664acf659f",
   "metadata": {},
   "source": [
    "## Final evaluation & plots"
   ]
  },
  {
   "cell_type": "code",
   "execution_count": 19,
   "id": "01e919f6-a682-4c06-8bbd-ac5b79e4d8bb",
   "metadata": {},
   "outputs": [
    {
     "name": "stdout",
     "output_type": "stream",
     "text": [
      "{\n",
      "  \"bin_precision\": 0.9659324522760646,\n",
      "  \"bin_recall\": 0.8742690058479532,\n",
      "  \"bin_f1\": 0.9178177759173992,\n",
      "  \"bin_ap\": 0.9887885410677327,\n",
      "  \"macro_f1\": 0.8412443874076421\n",
      "}\n"
     ]
    },
    {
     "data": {
      "image/png": "[encoded data removed]",
      "text/plain": [
       "<Figure size 600x500 with 2 Axes>"
      ]
     },
     "metadata": {},
     "output_type": "display_data"
    },
    {
     "data": {
      "text/html": [
       "<div>\n",
       "<style scoped>\n",
       "    .dataframe tbody tr th:only-of-type {\n",
       "        vertical-align: middle;\n",
       "    }\n",
       "\n",
       "    .dataframe tbody tr th {\n",
       "        vertical-align: top;\n",
       "    }\n",
       "\n",
       "    .dataframe thead th {\n",
       "        text-align: right;\n",
       "    }\n",
       "</style>\n",
       "<table border=\"1\" class=\"dataframe\">\n",
       "  <thead>\n",
       "    <tr style=\"text-align: right;\">\n",
       "      <th></th>\n",
       "      <th>label</th>\n",
       "      <th>precision</th>\n",
       "      <th>recall</th>\n",
       "      <th>f1</th>\n",
       "      <th>support</th>\n",
       "    </tr>\n",
       "  </thead>\n",
       "  <tbody>\n",
       "    <tr>\n",
       "      <th>0</th>\n",
       "      <td>not</td>\n",
       "      <td>0.584723</td>\n",
       "      <td>0.851662</td>\n",
       "      <td>0.693389</td>\n",
       "      <td>782</td>\n",
       "    </tr>\n",
       "    <tr>\n",
       "      <th>1</th>\n",
       "      <td>age</td>\n",
       "      <td>0.988608</td>\n",
       "      <td>0.981156</td>\n",
       "      <td>0.984868</td>\n",
       "      <td>796</td>\n",
       "    </tr>\n",
       "    <tr>\n",
       "      <th>2</th>\n",
       "      <td>ethnicity</td>\n",
       "      <td>0.988506</td>\n",
       "      <td>0.977273</td>\n",
       "      <td>0.982857</td>\n",
       "      <td>792</td>\n",
       "    </tr>\n",
       "    <tr>\n",
       "      <th>3</th>\n",
       "      <td>gender</td>\n",
       "      <td>0.940845</td>\n",
       "      <td>0.865285</td>\n",
       "      <td>0.901484</td>\n",
       "      <td>772</td>\n",
       "    </tr>\n",
       "    <tr>\n",
       "      <th>4</th>\n",
       "      <td>religion</td>\n",
       "      <td>0.960459</td>\n",
       "      <td>0.943609</td>\n",
       "      <td>0.951960</td>\n",
       "      <td>798</td>\n",
       "    </tr>\n",
       "    <tr>\n",
       "      <th>5</th>\n",
       "      <td>other</td>\n",
       "      <td>0.742604</td>\n",
       "      <td>0.415563</td>\n",
       "      <td>0.532909</td>\n",
       "      <td>604</td>\n",
       "    </tr>\n",
       "  </tbody>\n",
       "</table>\n",
       "</div>"
      ],
      "text/plain": [
       "       label  precision    recall        f1  support\n",
       "0        not   0.584723  0.851662  0.693389      782\n",
       "1        age   0.988608  0.981156  0.984868      796\n",
       "2  ethnicity   0.988506  0.977273  0.982857      792\n",
       "3     gender   0.940845  0.865285  0.901484      772\n",
       "4   religion   0.960459  0.943609  0.951960      798\n",
       "5      other   0.742604  0.415563  0.532909      604"
      ]
     },
     "metadata": {},
     "output_type": "display_data"
    }
   ],
   "source": [
    "# %% [code]\n",
    "test_metrics = evaluate(model, test_dl, threshold=BIN_THRESHOLD)\n",
    "print(json.dumps({k:v for k,v in test_metrics.items() if k not in [\"confusion_matrix\",\"y_true_6\",\"y_pred_6\",\"p_binary\"]}, indent=2))\n",
    "\n",
    "# Confusion matrix\n",
    "labels6 = [\"not\",\"age\",\"ethnicity\",\"gender\",\"religion\",\"other\"]\n",
    "cm = np.array(test_metrics[\"confusion_matrix\"])\n",
    "fig, ax = plt.subplots(figsize=(6,5))\n",
    "sns.heatmap(cm, annot=True, fmt=\"d\", cmap=\"Blues\", xticklabels=labels6, yticklabels=labels6, ax=ax)\n",
    "ax.set_xlabel(\"Predicted\"); ax.set_ylabel(\"True\"); ax.set_title(\"Confusion Matrix (Test)\")\n",
    "plt.tight_layout(); plt.show()\n",
    "\n",
    "# Per-class F1\n",
    "from sklearn.metrics import precision_recall_fscore_support\n",
    "y_true = np.array(test_metrics[\"y_true_6\"])\n",
    "y_pred = np.array(test_metrics[\"y_pred_6\"])\n",
    "prec, rec, f1, sup = precision_recall_fscore_support(y_true, y_pred, labels=[0,1,2,3,4,5], zero_division=0)\n",
    "per_class = pd.DataFrame({\"label\":labels6, \"precision\":prec, \"recall\":rec, \"f1\":f1, \"support\":sup})\n",
    "display(per_class)\n"
   ]
  },
  {
   "cell_type": "markdown",
   "id": "b82549f9-540f-4e8c-8400-f95cc98ff93f",
   "metadata": {},
   "source": [
    "## Save tokenizer, config, label mapping, metrics"
   ]
  },
  {
   "cell_type": "code",
   "execution_count": 20,
   "id": "e8ce5224-dc02-4b3f-b07c-381ee4088446",
   "metadata": {},
   "outputs": [
    {
     "name": "stdout",
     "output_type": "stream",
     "text": [
      "Saved artifacts: ['config.json', 'label_mapping.json', 'merges.txt', 'metrics.json', 'model_state_dict.pt', 'special_tokens_map.json', 'tokenizer.json', 'tokenizer_config.json', 'vocab.json']\n"
     ]
    }
   ],
   "source": [
    "# %% [code]\n",
    "# Save tokenizer\n",
    "tokenizer.save_pretrained(ARTIFACTS_DIR)\n",
    "\n",
    "# Save config + label map + thresholds + metrics\n",
    "config = {\n",
    "    \"encoder\": ENCODER,\n",
    "    \"max_len\": MAX_LEN,\n",
    "    \"bin_threshold\": BIN_THRESHOLD,\n",
    "    \"lambda_loss\": LAMBDA,\n",
    "}\n",
    "with open(os.path.join(ARTIFACTS_DIR, \"config.json\"), \"w\") as f:\n",
    "    json.dump(config, f, indent=2)\n",
    "\n",
    "with open(os.path.join(ARTIFACTS_DIR, \"label_mapping.json\"), \"w\") as f:\n",
    "    json.dump({\"0\":\"not_cyberbullying\", \"1\":\"age\", \"2\":\"ethnicity\", \"3\":\"gender\", \"4\":\"religion\", \"5\":\"other\"}, f, indent=2)\n",
    "\n",
    "# metrics.json\n",
    "save_metrics = {k:v for k,v in test_metrics.items() if k!=\"p_binary\"}\n",
    "with open(os.path.join(ARTIFACTS_DIR, \"metrics.json\"), \"w\") as f:\n",
    "    json.dump(save_metrics, f, indent=2)\n",
    "\n",
    "print(\"Saved artifacts:\", os.listdir(ARTIFACTS_DIR))\n"
   ]
  },
  {
   "cell_type": "markdown",
   "id": "cdd8196d-66dc-4b82-9063-cb985ba866d5",
   "metadata": {},
   "source": [
    "## Simple inference helper"
   ]
  },
  {
   "cell_type": "code",
   "execution_count": 31,
   "id": "b17e0cd0-dd4b-41c7-951b-cfe4e84646ef",
   "metadata": {},
   "outputs": [
    {
     "name": "stdout",
     "output_type": "stream",
     "text": [
      "{'binary': 'not_cyberbullying', 'p_bully': 0.04844193533062935, 'type': None, 'probs': None}\n"
     ]
    }
   ],
   "source": [
    "# %% [code]\n",
    "@torch.no_grad()\n",
    "def predict_one(text: str, threshold=BIN_THRESHOLD):\n",
    "    enc = tokenizer(text, return_tensors=\"pt\", truncation=True, padding=\"max_length\", max_length=MAX_LEN).to(device)\n",
    "    logit_bin, logits_multi = model(**enc)\n",
    "    p_b = torch.sigmoid(logit_bin).item()\n",
    "    if p_b < threshold:\n",
    "        return {\"binary\":\"not_cyberbullying\", \"p_bully\":p_b, \"type\":None, \"probs\":None}\n",
    "    probs = torch.softmax(logits_multi, dim=-1).squeeze(0).cpu().numpy().tolist()\n",
    "    idx = int(np.argmax(probs))\n",
    "    labels5 = [\"age\",\"ethnicity\",\"gender\",\"religion\",\"other\"]\n",
    "    return {\"binary\":\"bullying\", \"p_bully\":p_b, \"type\":labels5[idx], \"probs\":{l:round(p,3) for l,p in zip(labels5,probs)}}\n",
    "\n",
    "print(predict_one(\"What wuld happen to Kat and Andre if Manu and Pete turned around and said double elimination?Kat's head would explode! #mkr @mykitchenrules\"))\n"
   ]
  },
  {
   "cell_type": "code",
   "execution_count": null,
   "id": "d88f91d0-d9ab-4b06-9a20-c9419f18f4d3",
   "metadata": {},
   "outputs": [],
   "source": []
  }
 ],
 "metadata": {
  "kernelspec": {
   "display_name": "Python (cyberxai-cu128)",
   "language": "python",
   "name": "cyberxai-cu128"
  },
  "language_info": {
   "codemirror_mode": {
    "name": "ipython",
    "version": 3
   },
   "file_extension": ".py",
   "mimetype": "text/x-python",
   "name": "python",
   "nbconvert_exporter": "python",
   "pygments_lexer": "ipython3",
   "version": "3.11.9"
  }
 },
 "nbformat": 4,
 "nbformat_minor": 5
}
